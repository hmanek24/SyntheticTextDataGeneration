{
 "cells": [
  {
   "cell_type": "markdown",
   "metadata": {},
   "source": [
    "# Preprocess"
   ]
  },
  {
   "cell_type": "code",
   "execution_count": 1,
   "metadata": {},
   "outputs": [],
   "source": [
    "import pandas as pd\n",
    "import numpy as np\n",
    "import os\n",
    "from pathlib import Path"
   ]
  },
  {
   "cell_type": "code",
   "execution_count": 2,
   "metadata": {},
   "outputs": [],
   "source": [
    "low_resource=True # change as appropriate\n",
    "\n",
    "if low_resource == True:\n",
    "    DATA = Path('../data/preprocessed/low_resource/')\n",
    "    GPT2 = Path('../data/gpt2/low_resource')\n",
    "else:\n",
    "    DATA = Path('../data/preprocessed/')\n",
    "    GPT2 = Path('../data/gpt2')\n",
    "    \n",
    "GPT2.mkdir(parents=True, exist_ok=True)"
   ]
  },
  {
   "cell_type": "markdown",
   "metadata": {},
   "source": [
    "### Training set"
   ]
  },
  {
   "cell_type": "code",
   "execution_count": 3,
   "metadata": {},
   "outputs": [],
   "source": [
    "with open(DATA/'preprocessed/src-train.txt', 'r') as f:\n",
    "    train_src = f.readlines()\n",
    "train_src=pd.DataFrame({'text':train_src})"
   ]
  },
  {
   "cell_type": "code",
   "execution_count": 4,
   "metadata": {},
   "outputs": [],
   "source": [
    "with open(DATA/'preprocessed/tgt-train.txt', 'r') as f:\n",
    "    train_tgt = f.readlines()\n",
    "train_tgt=pd.DataFrame({'text':train_tgt})"
   ]
  },
  {
   "cell_type": "code",
   "execution_count": null,
   "metadata": {},
   "outputs": [],
   "source": [
    "train_tgt"
   ]
  },
  {
   "cell_type": "code",
   "execution_count": 5,
   "metadata": {},
   "outputs": [],
   "source": [
    "for i, row in train_src.iterrows():\n",
    "    src = row['text'][:-1]\n",
    "    src = src.split()[:512]\n",
    "    src_len = len(src)\n",
    "    tgt_len = 1024 - src_len #gpt2 can only process inputs of max 1024 tokens in length\n",
    "    tgt = train_tgt['text'][i]\n",
    "    tgt = tgt.split()[:tgt_len]\n",
    "    combined = \"<|startoftext|>\" + \" \".join(src) + \" = \" + \" \".join(tgt) + \"<|endoftext|>\"\n",
    "    row['text'] = combined"
   ]
  },
  {
   "cell_type": "code",
   "execution_count": 6,
   "metadata": {},
   "outputs": [
    {
     "data": {
      "text/plain": [
       "\"<|startoftext|>admission date : [ 2102/2/21 ] discharge date : [ <H> F <G> 86 <A> white <E> <D> <P> <M> <T> <L> = admission date : [ 2133/11/12 ] discharge date : [ 2133/11/27 ] <PAR> <PAR> <PAR> service : [ hospital1 212 ] <PAR> <PAR> history of present illness : dr [ known lastname 38485 ] is an 88 year - old <PAR> retired physician with [ name initial ( pre ) ] history of metastatic colon cancer <PAR> and two bouts of colon cancer who presented to [ hospital1 346 ] emergency department on [ 11 - 12 ] <PAR> with fecal impaction at that time he was found to have <PAR> another mass in his descending colon he was also found to <PAR> have a 10 cm stool ball in his rectum the patient was <PAR> attempted to be disimpacted multiple times in the emergency <PAR> room and another time on the floor without success he was <PAR> then seen by the gi service who recommended aggressive <PAR> regimen of golytely and enemas from below this allowed the <PAR> patient to have several bowel movements , but then remained <PAR> constipated following those few initial bowel movements he <PAR> subsequently refused to have any other further interventions <PAR> including manual disimpactions he suffered a v fibrillation <PAR> arrest with successful fibrillation on the floor he was <PAR> transferred to the medical intensive care unit for one day <PAR> where he was intubated and extubated and sent back to the <PAR> floor <PAR> <PAR> he subsequently continued to refuse any medical interventions <PAR> and then experienced a perforation of his colon with a large <PAR> amount of free air in his abdomen discussions extensively <PAR> were held with the family regarding the patient 's prognosis <PAR> and status and the decision was made to make the patient <PAR> essentially cmo five days later the patient expired <PAR> <PAR> past medical history : the patient 's past medical history <PAR> include nonsmall cell lung cancer with spinal metastasis <PAR> status post radiation treatment , coronary artery disease , <PAR> atrial fibrillation , hypertension , colon cancer status post <PAR> resection , benign prostatic hypertrophy , congestive heart <PAR> failure , iron deficiency anemia and status post placement of <PAR> a pacer for tachybrady syndrome in [ 2132 ] , status post <PAR> cerebrovascular accident with residual left arm weakness <PAR> <PAR> the patient 's family refused a postmortem examination <PAR> <PAR> cause of death : hypotension likely from sepsis from the <PAR> perforation of his colon <PAR> <PAR> <PAR> <PAR> <PAR> <PAR> [ first name11 ( name pattern1 ) 312 ] [ initials ( namepattern4 ) ] [ last name ( namepattern4 ) 313 ] , m d [ md number ( 1 ) 314 ] <PAR> <PAR> dictated by : [ last name ( namepattern1 ) 98976 ] <PAR> <PAR> medquist36 <PAR> <PAR> d : [ 2133/11/28 ] 07 : 12 <PAR> t : [ 2133/12/2 ] 06 : 38 <PAR> job # : [ job number ] <PAR><|endoftext|>\""
      ]
     },
     "execution_count": 6,
     "metadata": {},
     "output_type": "execute_result"
    }
   ],
   "source": [
    "train_src['text'][10]"
   ]
  },
  {
   "cell_type": "code",
   "execution_count": 7,
   "metadata": {},
   "outputs": [],
   "source": [
    "np.savetxt(GPT2/'input-text.txt', train_src, fmt='%s', newline=os.linesep)"
   ]
  },
  {
   "cell_type": "markdown",
   "metadata": {},
   "source": [
    "### Validation set"
   ]
  },
  {
   "cell_type": "code",
   "execution_count": 8,
   "metadata": {},
   "outputs": [],
   "source": [
    "with open(DATA/'preprocessed/src-val.txt', 'r') as f:\n",
    "    val_src = f.readlines()\n",
    "val_src=pd.DataFrame({'text':val_src})"
   ]
  },
  {
   "cell_type": "code",
   "execution_count": 9,
   "metadata": {},
   "outputs": [],
   "source": [
    "with open(DATA/'preprocessed/tgt-val.txt', 'r') as f:\n",
    "    val_tgt = f.readlines()\n",
    "val_tgt=pd.DataFrame({'text':val_tgt})"
   ]
  },
  {
   "cell_type": "code",
   "execution_count": 10,
   "metadata": {},
   "outputs": [],
   "source": [
    "for i, row in val_src.iterrows():\n",
    "    src = row['text'][:-1]\n",
    "    src = src.split()[:512]\n",
    "    src_len = len(src)\n",
    "    tgt_len = 1024 - src_len #gpt2 can only process inputs of max 1024 tokens in length\n",
    "    tgt = val_tgt['text'][i]\n",
    "    tgt = tgt.split()[:tgt_len]\n",
    "    combined = \"<|startoftext|>\" + \" \".join(src) + \" = \" + \" \".join(tgt) + \"<|endoftext|>\"\n",
    "    row['text'] = combined"
   ]
  },
  {
   "cell_type": "code",
   "execution_count": 11,
   "metadata": {},
   "outputs": [],
   "source": [
    "np.savetxt(GPT2/'val-input-text.txt', val_src, fmt='%s', newline=os.linesep)"
   ]
  },
  {
   "cell_type": "markdown",
   "metadata": {},
   "source": [
    "### Test set"
   ]
  },
  {
   "cell_type": "code",
   "execution_count": 12,
   "metadata": {},
   "outputs": [],
   "source": [
    "with open(DATA/'preprocessed/src-test.txt', 'r') as f:\n",
    "    test_src = f.readlines()\n",
    "test_src=pd.DataFrame({'text':test_src})"
   ]
  },
  {
   "cell_type": "code",
   "execution_count": 13,
   "metadata": {},
   "outputs": [],
   "source": [
    "for i, row in test_src.iterrows():\n",
    "    src = row['text'][:-1]\n",
    "    src = src.split()[:512]\n",
    "    src_len = len(src)\n",
    "    combined = \"<|startoftext|>\" + \" \".join(src) + \" = \"\n",
    "    row['text'] = combined"
   ]
  },
  {
   "cell_type": "code",
   "execution_count": 14,
   "metadata": {},
   "outputs": [],
   "source": [
    "np.savetxt(GPT2/'test-input-text.txt', test_src, fmt='%s', newline=os.linesep)"
   ]
  },
  {
   "cell_type": "code",
   "execution_count": null,
   "metadata": {},
   "outputs": [],
   "source": []
  },
  {
   "cell_type": "code",
   "execution_count": null,
   "metadata": {},
   "outputs": [],
   "source": []
  },
  {
   "cell_type": "code",
   "execution_count": null,
   "metadata": {},
   "outputs": [],
   "source": []
  },
  {
   "cell_type": "code",
   "execution_count": null,
   "metadata": {},
   "outputs": [],
   "source": []
  },
  {
   "cell_type": "code",
   "execution_count": 17,
   "metadata": {},
   "outputs": [
    {
     "name": "stdout",
     "output_type": "stream",
     "text": [
      "1\n",
      "2\n",
      "3\n",
      "False\n"
     ]
    }
   ],
   "source": [
    "class PriorityQueue:\n",
    "    def __init__(self):\n",
    "        self.list = []\n",
    "        \n",
    "    def insert(self, item):\n",
    "        self.list.append(item)\n",
    "        \n",
    "    def min(self):\n",
    "        return min(self.list)\n",
    "    \n",
    "    def removeMin(self):\n",
    "        min_index = self.min()\n",
    "        min_element = self.list.index(min_index)\n",
    "        self.list.pop(min_element)\n",
    "        \n",
    "    def isEmpty(self):\n",
    "        return len(self.list) == 0\n",
    "    \n",
    "    def __len__(self):\n",
    "        return len(self.list)"
   ]
  },
  {
   "cell_type": "code",
   "execution_count": 32,
   "metadata": {},
   "outputs": [],
   "source": [
    "def pascalLine(rowIndex):\n",
    "        if rowIndex == 0:\n",
    "            return [1]\n",
    "        prevRow = pascalLine(rowIndex - 1)\n",
    "        currentRow = [1]\n",
    "        for i in range(len(prevRow) - 1):\n",
    "            currentRow.append(prevRow[i] + prevRow[i + 1])\n",
    "        currentRow.append(1)\n",
    "        return currentRow"
   ]
  },
  {
   "cell_type": "code",
   "execution_count": 33,
   "metadata": {},
   "outputs": [
    {
     "data": {
      "text/plain": [
       "[1, 5, 10, 10, 5, 1]"
      ]
     },
     "execution_count": 33,
     "metadata": {},
     "output_type": "execute_result"
    }
   ],
   "source": [
    "pascalLine(5)"
   ]
  },
  {
   "cell_type": "code",
   "execution_count": null,
   "metadata": {},
   "outputs": [],
   "source": []
  }
 ],
 "metadata": {
  "kernelspec": {
   "display_name": "tf",
   "language": "python",
   "name": "tf"
  },
  "language_info": {
   "codemirror_mode": {
    "name": "ipython",
    "version": 3
   },
   "file_extension": ".py",
   "mimetype": "text/x-python",
   "name": "python",
   "nbconvert_exporter": "python",
   "pygments_lexer": "ipython3",
   "version": "3.7.3"
  }
 },
 "nbformat": 4,
 "nbformat_minor": 4
}
